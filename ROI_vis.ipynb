{
 "metadata": {
  "language_info": {
   "codemirror_mode": {
    "name": "ipython",
    "version": 3
   },
   "file_extension": ".py",
   "mimetype": "text/x-python",
   "name": "python",
   "nbconvert_exporter": "python",
   "pygments_lexer": "ipython3",
   "version": "3.8.5-final"
  },
  "orig_nbformat": 2,
  "kernelspec": {
   "name": "Python 3.8.5 64-bit ('tissuenet': conda)",
   "display_name": "Python 3.8.5 64-bit ('tissuenet': conda)",
   "metadata": {
    "interpreter": {
     "hash": "6dc1c1b5f5415c7472886dd575fc1763dfa2c064b1efc8946a9893bf3fddc101"
    }
   }
  }
 },
 "nbformat": 4,
 "nbformat_minor": 2,
 "cells": [
  {
   "cell_type": "code",
   "execution_count": null,
   "metadata": {},
   "outputs": [],
   "source": [
    "\"\"\"\n",
    "This file contains a coordinate convertor, it has 3 (useful) methods\n",
    "\n",
    "\n",
    "\"\"\"\n",
    "import numpy as np\n",
    "import matplotlib.pyplot as plt\n",
    "from assets.ROI import ROI\n",
    "from assets.img_calculs import seg_kmeans, seg_canny, get_boxes_contours, seg_hsv_threshold\n",
    "from assets.img_calculs import denoise_bilatera, denoise_erode\n",
    "from assets.img2np import np_from_tif, np_from_jpg\n",
    "import os\n",
    "\n",
    "TIF_DIR = '/home/yutong/TissueNet/data/tif_images/'\n",
    "JPG_DIR = '/home/yutong/TissueNet/data/downsampled_images/'\n"
   ]
  },
  {
   "cell_type": "code",
   "execution_count": null,
   "metadata": {},
   "outputs": [],
   "source": [
    "FILE_NAME = 'C01_B295_S01'\n",
    "\n",
    "TIF_PATH = os.path.join(TIF_DIR, FILE_NAME + '.tif')\n",
    "JPG_PATH = os.path.join(JPG_DIR, FILE_NAME + '.jpg')\n",
    "\n",
    "img = np_from_jpg(JPG_PATH)\n",
    "print(JPG_PATH)\n",
    "# img = np_from_tif('../data/tif_images/C01_B108_S01.tif', 7)\n",
    "mask = seg_hsv_threshold(img, disp=True, denoise_f=(denoise_erode, denoise_bilatera))\n",
    "boxes, contours, _ = get_boxes_contours(img, mask, disp=True, thresh=200)\n",
    "R = ROI()\n",
    "R.set_boxes(name='C01_B108_S01.tif', W=img.shape[1], H=img.shape[0], boxes=boxes, coordinate='lu')\n",
    "R.plot('C01_B108_S01.tif')\n",
    "B = R.get_boxes_normalized('C01_B108_S01.tif', 'lu')\n",
    "print('Finished')"
   ]
  },
  {
   "cell_type": "code",
   "execution_count": null,
   "metadata": {},
   "outputs": [],
   "source": [
    "print(len(B))\n",
    "print(B)"
   ]
  },
  {
   "cell_type": "code",
   "execution_count": null,
   "metadata": {},
   "outputs": [],
   "source": [
    "plt.imshow(mask)\n",
    "plt.show()"
   ]
  },
  {
   "cell_type": "code",
   "execution_count": null,
   "metadata": {},
   "outputs": [],
   "source": []
  }
 ]
}