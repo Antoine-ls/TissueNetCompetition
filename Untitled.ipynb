{
 "cells": [
  {
   "cell_type": "code",
   "execution_count": 26,
   "metadata": {},
   "outputs": [
    {
     "name": "stdout",
     "output_type": "stream",
     "text": [
      "           filename\n",
      "0  C12_B063_S12.tif\n",
      "1  C11_B044_S11.tif\n"
     ]
    }
   ],
   "source": [
    "import pandas as pd\n",
    "import os \n",
    "tifs = os.listdir('data')\n",
    "df = pd.DataFrame(columns=['filename'])\n",
    "for tif in tifs:\n",
    "    df = df.append([{'filename':tif}],ignore_index=True)\n",
    "print(df)\n",
    "df.to_csv(\"test_metadata.csv\",index = False)"
   ]
  },
  {
   "cell_type": "code",
   "execution_count": 18,
   "metadata": {},
   "outputs": [
    {
     "data": {
      "text/html": [
       "<div>\n",
       "<style scoped>\n",
       "    .dataframe tbody tr th:only-of-type {\n",
       "        vertical-align: middle;\n",
       "    }\n",
       "\n",
       "    .dataframe tbody tr th {\n",
       "        vertical-align: top;\n",
       "    }\n",
       "\n",
       "    .dataframe thead th {\n",
       "        text-align: right;\n",
       "    }\n",
       "</style>\n",
       "<table border=\"1\" class=\"dataframe\">\n",
       "  <thead>\n",
       "    <tr style=\"text-align: right;\">\n",
       "      <th></th>\n",
       "      <th>filename</th>\n",
       "    </tr>\n",
       "  </thead>\n",
       "  <tbody>\n",
       "    <tr>\n",
       "      <th>0</th>\n",
       "      <td>a</td>\n",
       "    </tr>\n",
       "  </tbody>\n",
       "</table>\n",
       "</div>"
      ],
      "text/plain": [
       "  filename\n",
       "0        a"
      ]
     },
     "execution_count": 18,
     "metadata": {},
     "output_type": "execute_result"
    }
   ],
   "source": [
    "df.append([{'filename':'a'}])"
   ]
  },
  {
   "cell_type": "code",
   "execution_count": 49,
   "metadata": {},
   "outputs": [
    {
     "name": "stdout",
     "output_type": "stream",
     "text": [
      "  adding: assets/ (stored 0%)\n",
      "  adding: assets/fineclassifier.py (deflated 51%)\n",
      "  adding: assets/fineclassifyData.py (deflated 41%)\n",
      "  adding: assets/fineClassifier.pth (deflated 33%)\n",
      "  adding: assets/TissueTestData.py (deflated 60%)\n",
      "  adding: assets/ROI.py (deflated 67%)\n",
      "  adding: assets/img_calculs.py (deflated 78%)\n",
      "  adding: assets/img2np.py (deflated 60%)\n",
      "  adding: assets/__pycache__/ (stored 0%)\n",
      "  adding: assets/__pycache__/fineclassifyData.cpython-36.pyc (deflated 44%)\n",
      "  adding: assets/__pycache__/TissueAnnoData.cpython-36.pyc (deflated 44%)\n",
      "  adding: assets/__pycache__/ROI.cpython-37.pyc (deflated 47%)\n",
      "  adding: assets/__pycache__/img2np.cpython-36.pyc (deflated 37%)\n",
      "  adding: assets/__pycache__/TissueTestData.cpython-37.pyc (deflated 47%)\n",
      "  adding: assets/__pycache__/img_calculs.cpython-37.pyc (deflated 58%)\n",
      "  adding: assets/__pycache__/fineclassifier.cpython-36.pyc (deflated 40%)\n",
      "  adding: assets/__pycache__/TissueTestData.cpython-36.pyc (deflated 47%)\n",
      "  adding: assets/__pycache__/img_calculs.cpython-36.pyc (deflated 59%)\n",
      "  adding: assets/__pycache__/ROI.cpython-36.pyc (deflated 48%)\n",
      "  adding: assets/__pycache__/TissueAnnoData.cpython-37.pyc (deflated 44%)\n",
      "  adding: assets/TissueAnnoData.py (deflated 50%)\n",
      "  adding: assets/.ipynb_checkpoints/ (stored 0%)\n",
      "  adding: assets/epoch_final_res50.pth (deflated 7%)\n",
      "  adding: main.py (deflated 66%)\n"
     ]
    }
   ],
   "source": [
    "!zip -r asset_new.zip assets main.py"
   ]
  },
  {
   "cell_type": "code",
   "execution_count": null,
   "metadata": {},
   "outputs": [],
   "source": []
  },
  {
   "cell_type": "code",
   "execution_count": 30,
   "metadata": {},
   "outputs": [
    {
     "data": {
      "image/png": "[encoded data removed]",
      "text/plain": [
       "<Figure size 432x288 with 1 Axes>"
      ]
     },
     "metadata": {
      "needs_background": "light"
     },
     "output_type": "display_data"
    },
    {
     "data": {
      "image/png": "[encoded data removed]",
      "text/plain": [
       "<Figure size 432x288 with 1 Axes>"
      ]
     },
     "metadata": {
      "needs_background": "light"
     },
     "output_type": "display_data"
    },
    {
     "data": {
      "image/png": "[encoded data removed]",
      "text/plain": [
       "<Figure size 432x288 with 1 Axes>"
      ]
     },
     "metadata": {
      "needs_background": "light"
     },
     "output_type": "display_data"
    }
   ],
   "source": [
    "import re\n",
    "from matplotlib import pyplot as plt\n",
    "width = []\n",
    "height = []\n",
    "size = []\n",
    "with open('log.txt') as f:\n",
    "    while True:\n",
    "        str = f.readline()\n",
    "        if not str:\n",
    "            break\n",
    "        if('tif image has shape') in str:\n",
    "            if(len(re.findall(r\"\\d+\",str))!=2):\n",
    "                continue\n",
    "            width.append(int(re.findall(r\"\\d+\",str)[0]))\n",
    "            height.append(int(re.findall(r\"\\d+\",str)[1]))\n",
    "#print(len(height))\n",
    "#print(len(list((set(height)))))\n",
    "\n",
    "for i in range(len(width)):\n",
    "    if [width[i],height[i]] not in size:\n",
    "        size.append([width[i],height[i]])\n",
    "#print(size)\n",
    "width = [x[0] for x in size]\n",
    "height = [x[1] for x in size]\n",
    "area = [x[0]*x[1] for x in size]\n",
    "#fig = plt.figure(figsize=(15,15))\n",
    "#plt.subplot(1,3,1)\n",
    "plt.hist(height,bins=20)\n",
    "plt.title('hist of height')\n",
    "plt.show()\n",
    "#plt.subplot(1,3,2)\n",
    "plt.hist(width,bins=20)\n",
    "plt.title('hist of width')\n",
    "plt.show()\n",
    "#plt.subplot(1,3,3)\n",
    "plt.hist(area,bins=50,range = [1e8,9e10])\n",
    "plt.title('hist of area')\n",
    "plt.show()"
   ]
  },
  {
   "cell_type": "code",
   "execution_count": null,
   "metadata": {},
   "outputs": [],
   "source": []
  }
 ],
 "metadata": {
  "kernelspec": {
   "display_name": "detectron2",
   "language": "python",
   "name": "detectron2"
  },
  "language_info": {
   "codemirror_mode": {
    "name": "ipython",
    "version": 3
   },
   "file_extension": ".py",
   "mimetype": "text/x-python",
   "name": "python",
   "nbconvert_exporter": "python",
   "pygments_lexer": "ipython3",
   "version": "3.6.11"
  }
 },
 "nbformat": 4,
 "nbformat_minor": 2
}
