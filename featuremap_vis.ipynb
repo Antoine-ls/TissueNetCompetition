{
 "metadata": {
  "language_info": {
   "codemirror_mode": {
    "name": "ipython",
    "version": 3
   },
   "file_extension": ".py",
   "mimetype": "text/x-python",
   "name": "python",
   "nbconvert_exporter": "python",
   "pygments_lexer": "ipython3",
   "version": "3.8.5-final"
  },
  "orig_nbformat": 2,
  "kernelspec": {
   "name": "Python 3.8.5 64-bit ('tissuenet': conda)",
   "display_name": "Python 3.8.5 64-bit ('tissuenet': conda)",
   "metadata": {
    "interpreter": {
     "hash": "6dc1c1b5f5415c7472886dd575fc1763dfa2c064b1efc8946a9893bf3fddc101"
    }
   }
  }
 },
 "nbformat": 4,
 "nbformat_minor": 2,
 "cells": [
  {
   "source": [
    "import pickle\n",
    "import matplotlib.pyplot as plt\n",
    "import glob\n",
    "import numpy as np"
   ],
   "cell_type": "code",
   "metadata": {},
   "execution_count": null,
   "outputs": []
  },
  {
   "cell_type": "code",
   "execution_count": null,
   "metadata": {},
   "outputs": [],
   "source": [
    "# 设置之前训练结果的保存目录，得到所有训练结果的列表\n",
    "PROBA_RESULTS_DIR = './train_data/proba_results/'\n",
    "obj_path_list = glob.glob(os.path.join(PROBA_RESULTS_DIR, '*.obj'))"
   ]
  },
  {
   "cell_type": "code",
   "execution_count": null,
   "metadata": {},
   "outputs": [],
   "source": [
    "# 测试读取训练结果\n",
    "index = 0\n",
    "\n",
    "proba_result = {}\n",
    "with open(obj_path_list[index], 'rb') as f:\n",
    "    proba_result = pickle.load(f)\n",
    "\n",
    "print(proba_result.keys())\n"
   ]
  },
  {
   "cell_type": "code",
   "execution_count": null,
   "metadata": {},
   "outputs": [],
   "source": [
    "# 展示之前保存的训练结果\n",
    "f_map = np.expand_dims(proba_result['feature_map'], axis=0) / 4\n",
    "plt.imshow(f_map[0], 'Purples')\n",
    "plt.show()"
   ]
  },
  {
   "cell_type": "code",
   "execution_count": null,
   "metadata": {},
   "outputs": [],
   "source": [
    "# 训练结果是怎么组装成feature_map的\n",
    "index = 350\n",
    "\n",
    "proba_result = {}\n",
    "with open(obj_path_list[index], 'rb') as f:\n",
    "    proba_result = pickle.load(f)\n",
    "\n",
    "f_map = proba_result['feature_map']\n",
    "anchors_normalized = proba_result['anchors_normalized']\n",
    "prediction = proba_result['prediction']\n",
    "\n",
    "canvas_size = 64\n",
    "resolution = 1 / canvas_size\n",
    "feature_map = np.zeros(shape=[canvas_size, canvas_size])\n",
    "idx_x = (anchors_normalized[:, 0] // resolution).astype(np.int32)\n",
    "idx_y = (anchors_normalized[:, 1] // resolution).astype(np.int32)\n",
    "feature_map[ idx_x, idx_y] = prediction + 1\n",
    "\n",
    "print(\"annotation_class\", proba_result['annotation_class'])\n",
    "print(\"prediction\", feature_map.max())\n",
    "plt.imshow(feature_map, 'Purples')\n",
    "plt.show()"
   ]
  }
 ]
}